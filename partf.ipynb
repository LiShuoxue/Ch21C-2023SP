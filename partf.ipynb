{
 "cells": [
  {
   "cell_type": "code",
   "execution_count": null,
   "metadata": {},
   "outputs": [
    {
     "name": "stderr",
     "output_type": "stream",
     "text": [
      "\n",
      "                                        \u001b[91m())))))))))))))))/\u001b[0m                     \n",
      "                                    \u001b[91m())))))))))))))))))))))))),\u001b[0m                \n",
      "                                \u001b[91m*)))))))))))))))))))))))))))))))))\u001b[0m             \n",
      "                        \u001b[94m#,\u001b[0m    \u001b[91m()))))))))/\u001b[0m                \u001b[91m.)))))))))),\u001b[0m          \n",
      "                      \u001b[94m#%%%%,\u001b[0m  \u001b[91m())))))\u001b[0m                        \u001b[91m.))))))))*\u001b[0m        \n",
      "                      \u001b[94m*%%%%%%,\u001b[0m  \u001b[91m))\u001b[0m              \u001b[93m..\u001b[0m              \u001b[91m,))))))).\u001b[0m      \n",
      "                        \u001b[94m*%%%%%%,\u001b[0m         \u001b[93m***************/.\u001b[0m        \u001b[91m.)))))))\u001b[0m     \n",
      "                \u001b[94m#%%/\u001b[0m      \u001b[94m(%%%%%%,\u001b[0m    \u001b[93m/*********************.\u001b[0m       \u001b[91m)))))))\u001b[0m    \n",
      "              \u001b[94m.%%%%%%#\u001b[0m      \u001b[94m*%%%%%%,\u001b[0m  \u001b[93m*******/,\u001b[0m     \u001b[93m**********,\u001b[0m      \u001b[91m.))))))\u001b[0m   \n",
      "                \u001b[94m.%%%%%%/\u001b[0m      \u001b[94m*%%%%%%,\u001b[0m  \u001b[93m**\u001b[0m              \u001b[93m********\u001b[0m      \u001b[91m.))))))\u001b[0m  \n",
      "          \u001b[94m##\u001b[0m      \u001b[94m.%%%%%%/\u001b[0m      \u001b[94m(%%%%%%,\u001b[0m                  \u001b[93m,******\u001b[0m      \u001b[91m/)))))\u001b[0m  \n",
      "        \u001b[94m%%%%%%\u001b[0m      \u001b[94m.%%%%%%#\u001b[0m      \u001b[94m*%%%%%%,\u001b[0m    \u001b[92m,/////.\u001b[0m       \u001b[93m******\u001b[0m      \u001b[91m))))))\u001b[0m \n",
      "      \u001b[94m#%\u001b[0m      \u001b[94m%%\u001b[0m      \u001b[94m.%%%%%%/\u001b[0m      \u001b[94m*%%%%%%,\u001b[0m  \u001b[92m////////,\u001b[0m      \u001b[93m*****/\u001b[0m     \u001b[91m,)))))\u001b[0m \n",
      "    \u001b[94m#%%\u001b[0m  \u001b[94m%%%\u001b[0m  \u001b[94m%%%#\u001b[0m      \u001b[94m.%%%%%%/\u001b[0m      \u001b[94m(%%%%%%,\u001b[0m  \u001b[92m///////.\u001b[0m     \u001b[93m/*****\u001b[0m      \u001b[91m))))).\u001b[0m\n",
      "  \u001b[94m#%%%%.\u001b[0m      \u001b[94m%%%%%#\u001b[0m      \u001b[94m/%%%%%%*\u001b[0m      \u001b[94m#%%%%%%\u001b[0m   \u001b[92m/////)\u001b[0m     \u001b[93m******\u001b[0m      \u001b[91m))))),\u001b[0m\n",
      "    \u001b[94m#%%%%##%\u001b[0m  \u001b[94m%%%#\u001b[0m      \u001b[94m.%%%%%%/\u001b[0m      \u001b[94m(%%%%%%,\u001b[0m  \u001b[92m///////.\u001b[0m     \u001b[93m/*****\u001b[0m      \u001b[91m))))).\u001b[0m\n",
      "      \u001b[94m##\u001b[0m     \u001b[94m%%%\u001b[0m      \u001b[94m.%%%%%%/\u001b[0m      \u001b[94m*%%%%%%,\u001b[0m  \u001b[92m////////.\u001b[0m      \u001b[93m*****/\u001b[0m     \u001b[91m,)))))\u001b[0m \n",
      "        \u001b[94m#%%%%#\u001b[0m      \u001b[94m/%%%%%%/\u001b[0m      \u001b[94m(%%%%%%\u001b[0m      \u001b[92m/)/)//\u001b[0m       \u001b[93m******\u001b[0m      \u001b[91m))))))\u001b[0m \n",
      "          \u001b[94m##\u001b[0m      \u001b[94m.%%%%%%/\u001b[0m      \u001b[94m(%%%%%%,\u001b[0m                  \u001b[93m*******\u001b[0m      \u001b[91m))))))\u001b[0m  \n",
      "                \u001b[94m.%%%%%%/\u001b[0m      \u001b[94m*%%%%%%,\u001b[0m  \u001b[93m**.\u001b[0m             \u001b[93m/*******\u001b[0m      \u001b[91m.))))))\u001b[0m  \n",
      "              \u001b[94m*%%%%%%/\u001b[0m      \u001b[94m(%%%%%%\u001b[0m   \u001b[93m********/*..,*/*********\u001b[0m       \u001b[91m*))))))\u001b[0m   \n",
      "                \u001b[94m#%%/\u001b[0m      \u001b[94m(%%%%%%,\u001b[0m    \u001b[93m*********************/\u001b[0m        \u001b[91m)))))))\u001b[0m    \n",
      "                        \u001b[94m*%%%%%%,\u001b[0m         \u001b[93m,**************/\u001b[0m         \u001b[91m,))))))/\u001b[0m     \n",
      "                      \u001b[94m(%%%%%%\u001b[0m   \u001b[91m()\u001b[0m                              \u001b[91m))))))))\u001b[0m       \n",
      "                      \u001b[94m#%%%%,\u001b[0m  \u001b[91m())))))\u001b[0m                        \u001b[91m,)))))))),\u001b[0m        \n",
      "                        \u001b[94m#,\u001b[0m    \u001b[91m())))))))))\u001b[0m                \u001b[91m,)))))))))).\u001b[0m          \n",
      "                                 \u001b[91m()))))))))))))))))))))))))))))))/\u001b[0m             \n",
      "                                    \u001b[91m())))))))))))))))))))))))).\u001b[0m                \n",
      "                                         \u001b[91m())))))))))))))),\u001b[0m                     \n",
      "\n",
      "-=# \u001b[1;94m geomeTRIC started. Version: 0.9.7.2 \u001b[0m #=-\n",
      "geometric-optimize called with the following command line:\n",
      "/home/shuoxueli/src/miniconda3/lib/python3.9/site-packages/ipykernel_launcher.py --ip=127.0.0.1 --stdin=9011 --control=9009 --hb=9008 --Session.signature_scheme=\"hmac-sha256\" --Session.key=b\"b0177e99-5c77-41df-80c1-19124c31deee\" --shell=9010 --transport=\"tcp\" --iopub=9012 --f=/home/shuoxueli/.local/share/jupyter/runtime/kernel-v2-341Fo5Of7rXqoGK.json\n",
      "9 internal coordinates being used (instead of 9 Cartesians)\n",
      "Internal coordinate system (atoms numbered from 1):\n",
      "Distance 1-2\n",
      "Distance 1-3\n",
      "Angle 2-1-3\n",
      "Translation-X 1-3\n",
      "Translation-Y 1-3\n",
      "Translation-Z 1-3\n",
      "Rotation-A 1-3\n",
      "Rotation-B 1-3\n",
      "Rotation-C 1-3\n",
      "<class 'geometric.internal.Distance'> : 2\n",
      "<class 'geometric.internal.Angle'> : 1\n",
      "<class 'geometric.internal.TranslationX'> : 1\n",
      "<class 'geometric.internal.TranslationY'> : 1\n",
      "<class 'geometric.internal.TranslationZ'> : 1\n",
      "<class 'geometric.internal.RotationA'> : 1\n",
      "<class 'geometric.internal.RotationB'> : 1\n",
      "<class 'geometric.internal.RotationC'> : 1\n",
      "Step    0 : Gradient = 1.861e-05/2.007e-05 (rms/max) Energy = -75.8415544901\n",
      "Hessian Eigenvalues: 5.00000e-02 5.00000e-02 5.00000e-02 ... 1.60000e-01 5.21329e-01 5.21334e-01\n",
      "Step    1 : Displace = \u001b[92m2.319e-05\u001b[0m/\u001b[92m2.829e-05\u001b[0m (rms/max) Trust = 1.000e-01 (=) Grad = \u001b[92m4.972e-06\u001b[0m/\u001b[92m8.336e-06\u001b[0m (rms/max) E (change) = -75.8415544906 (\u001b[92m-4.926e-10\u001b[0m) Quality = \u001b[0m0.256\u001b[0m\n",
      "Converged! =D\n",
      "\n",
      "    #==========================================================================#\n",
      "    #| If this code has benefited your research, please support us by citing: |#\n",
      "    #|                                                                        |#\n",
      "    #| Wang, L.-P.; Song, C.C. (2016) \"Geometry optimization made simple with |#\n",
      "    #| translation and rotation coordinates\", J. Chem, Phys. 144, 214108.     |#\n",
      "    #| http://dx.doi.org/10.1063/1.4952956                                    |#\n",
      "    #==========================================================================#\n",
      "    \n",
      "Time elapsed since start of run_optimizer: 9.118 seconds\n"
     ]
    },
    {
     "name": "stdout",
     "output_type": "stream",
     "text": [
      "[[-1.42917997e-13 -5.77918996e-01 -1.47745762e-01]\n",
      " [-1.43061415e-13  2.55851453e-01  1.49784179e+00]\n",
      " [-7.34087729e-14  8.20011408e-01 -1.35145031e+00]]\n"
     ]
    },
    {
     "data": {
      "text/plain": [
       "-75.84155448781226"
      ]
     },
     "execution_count": 1,
     "metadata": {},
     "output_type": "execute_result"
    }
   ],
   "source": [
    "from pyscf import gto, scf, dft\n",
    "from pyscf.qsdopt.qsd_optimizer import QSD\n",
    "\n",
    "\n",
    "mol = gto.M(atom='''\n",
    "O -9.95681205e-14 -5.77759063e-01 -1.47610224e-01\n",
    "H -1.13183613e-13  2.56073494e-01  1.49790587e+00\n",
    "H -4.59583524e-14  8.20140685e-01 -1.35129585e+00''',\n",
    "basis='6-31G*', verbose=0, unit=\"Angstrom\")\n",
    "mf = dft.RKS(mol)\n",
    "from pyscf.geomopt.geometric_solver import optimize\n",
    "mol_eq = optimize(mf, maxsteps=100)\n",
    "print(mol_eq.atom_coords(unit='Angstrom'))\n",
    "\n",
    "mf.kernel()"
   ]
  },
  {
   "cell_type": "code",
   "execution_count": null,
   "metadata": {},
   "outputs": [],
   "source": [
    "from pyscf.hessian.thermo import harmonic_analysis, rotation_const\n",
    "\n",
    "harmonic_analysis()\n",
    "\n"
   ]
  },
  {
   "cell_type": "code",
   "execution_count": 1,
   "metadata": {},
   "outputs": [
    {
     "name": "stdout",
     "output_type": "stream",
     "text": [
      "converged SCF energy = -75.9839484981055\n",
      "Rotation constant\n",
      "(array([819.20368462, 437.4565388 , 285.17335217]), 'GHz')\n",
      "Zero-point energy\n",
      "(0.022172722144124565, 'Eh')\n",
      "Internal energy at 0 K\n",
      "(-75.9617757759614, 'Eh')\n",
      "Internal energy at 298.15 K\n",
      "(-75.95894200172, 'Eh')\n",
      "Enthalpy energy at 298.15 K\n",
      "(-75.95799781716389, 'Eh')\n",
      "Gibbs free energy at 298.15 K\n",
      "(-75.97940894236407, 'Eh')\n",
      "Heat capacity at 298.15 K\n",
      "(9.536589391341835e-06, 'Eh/K')\n"
     ]
    }
   ],
   "source": [
    "\n",
    "from pyscf import gto\n",
    "from pyscf.hessian import thermo\n",
    "\n",
    "# First compute nuclear Hessian.\n",
    "mol = gto.M(\n",
    "    atom = '''O    0.   0.       0\n",
    "              H    0.   -0.757   0.587\n",
    "              H    0.    0.757   0.587''',\n",
    "    basis = '631g')\n",
    "\n",
    "mf = mol.RHF().run()\n",
    "hessian = mf.Hessian().kernel()\n",
    "\n",
    "# Frequency analysis\n",
    "freq_info = thermo.harmonic_analysis(mf.mol, hessian)\n",
    "# Thermochemistry analysis at 298.15 K and 1 atmospheric pressure\n",
    "thermo_info = thermo.thermo(mf, freq_info['freq_au'], 298.15, 101325)\n",
    "\n",
    "print('Rotation constant')\n",
    "print(thermo_info['rot_const'])\n",
    "\n",
    "print('Zero-point energy')\n",
    "print(thermo_info['ZPE'   ])\n",
    "\n",
    "print('Internal energy at 0 K')\n",
    "print(thermo_info['E_0K'  ])\n",
    "\n",
    "print('Internal energy at 298.15 K')\n",
    "print(thermo_info['E_tot' ])\n",
    "\n",
    "print('Enthalpy energy at 298.15 K')\n",
    "print(thermo_info['H_tot' ])\n",
    "\n",
    "print('Gibbs free energy at 298.15 K')\n",
    "print(thermo_info['G_tot' ])\n",
    "\n",
    "print('Heat capacity at 298.15 K')\n",
    "print(thermo_info['Cv_tot'])"
   ]
  }
 ],
 "metadata": {
  "kernelspec": {
   "display_name": "Python 3.9.12 ('base')",
   "language": "python",
   "name": "python3"
  },
  "language_info": {
   "codemirror_mode": {
    "name": "ipython",
    "version": 3
   },
   "file_extension": ".py",
   "mimetype": "text/x-python",
   "name": "python",
   "nbconvert_exporter": "python",
   "pygments_lexer": "ipython3",
   "version": "3.9.12"
  },
  "orig_nbformat": 4,
  "vscode": {
   "interpreter": {
    "hash": "623517a59ba2a6813e33667d3e8547cfe64bce6f3a6fda1670d2c57a0b8be0b5"
   }
  }
 },
 "nbformat": 4,
 "nbformat_minor": 2
}

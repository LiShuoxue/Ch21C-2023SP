{
 "cells": [
  {
   "cell_type": "code",
   "execution_count": 3,
   "metadata": {},
   "outputs": [
    {
     "data": {
      "image/png": "[encoded data removed]",
      "text/plain": [
       "<Figure size 432x288 with 1 Axes>"
      ]
     },
     "metadata": {
      "needs_background": "light"
     },
     "output_type": "display_data"
    }
   ],
   "source": [
    "import pandas as pd\n",
    "import matplotlib.pyplot as plt\n",
    "\n",
    "df = pd.read_csv(\"results-shuoxue.csv\")\n",
    "plt.plot(df['Volume'] * 1E-3, df['Pressure'] * 1E5)\n",
    "plt.show()\n",
    "\n"
   ]
  },
  {
   "cell_type": "code",
   "execution_count": 23,
   "metadata": {},
   "outputs": [
    {
     "data": {
      "image/png": "[encoded data removed]",
      "text/plain": [
       "<Figure size 432x288 with 1 Axes>"
      ]
     },
     "metadata": {
      "needs_background": "light"
     },
     "output_type": "display_data"
    }
   ],
   "source": [
    "import scipy.constants as const\n",
    "from scipy.optimize import curve_fit\n",
    "\n",
    "\n",
    "T = 100\n",
    "\n",
    "def vDw_p(V, a, b):\n",
    "    return const.R * T / (V - b) - a / (V ** 2)\n",
    "\n",
    "volumes = df['Volume']     # L/mol\n",
    "pressures = df['Pressure'] * 100 # Bar to kPa\n",
    "\n",
    "\n",
    "plt.plot(volumes, pressures)\n",
    "plt.show()"
   ]
  },
  {
   "cell_type": "code",
   "execution_count": 24,
   "metadata": {},
   "outputs": [
    {
     "data": {
      "text/plain": [
       "0     0.989086\n",
       "1     0.989750\n",
       "2     0.995801\n",
       "3     0.995636\n",
       "4     0.996675\n",
       "5     0.997365\n",
       "6     0.997868\n",
       "7     0.998015\n",
       "8     0.998027\n",
       "9     0.997986\n",
       "10    0.997632\n",
       "11    0.998093\n",
       "12    0.998136\n",
       "13    0.998098\n",
       "dtype: float64"
      ]
     },
     "execution_count": 24,
     "metadata": {},
     "output_type": "execute_result"
    }
   ],
   "source": [
    "volumes * pressures / const.R"
   ]
  },
  {
   "cell_type": "code",
   "execution_count": 20,
   "metadata": {},
   "outputs": [
    {
     "data": {
      "text/plain": [
       "8.314462618"
      ]
     },
     "execution_count": 20,
     "metadata": {},
     "output_type": "execute_result"
    }
   ],
   "source": [
    "const.R"
   ]
  },
  {
   "cell_type": "code",
   "execution_count": 19,
   "metadata": {},
   "outputs": [
    {
     "data": {
      "text/plain": [
       "6.02214076e+23"
      ]
     },
     "execution_count": 19,
     "metadata": {},
     "output_type": "execute_result"
    }
   ],
   "source": [
    "const.N_A"
   ]
  },
  {
   "cell_type": "code",
   "execution_count": 26,
   "metadata": {},
   "outputs": [
    {
     "data": {
      "text/plain": [
       "500.0116869120129"
      ]
     },
     "execution_count": 26,
     "metadata": {},
     "output_type": "execute_result"
    }
   ],
   "source": [
    "(792.732812 ** 3) / 1E30 * 1E3 / (600 / const.N_A)"
   ]
  }
 ],
 "metadata": {
  "kernelspec": {
   "display_name": "Python 3.9.12 ('base')",
   "language": "python",
   "name": "python3"
  },
  "language_info": {
   "codemirror_mode": {
    "name": "ipython",
    "version": 3
   },
   "file_extension": ".py",
   "mimetype": "text/x-python",
   "name": "python",
   "nbconvert_exporter": "python",
   "pygments_lexer": "ipython3",
   "version": "3.9.12"
  },
  "orig_nbformat": 4,
  "vscode": {
   "interpreter": {
    "hash": "623517a59ba2a6813e33667d3e8547cfe64bce6f3a6fda1670d2c57a0b8be0b5"
   }
  }
 },
 "nbformat": 4,
 "nbformat_minor": 2
}
